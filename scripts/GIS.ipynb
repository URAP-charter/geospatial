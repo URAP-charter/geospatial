version https://git-lfs.github.com/spec/v1
oid sha256:1e3cb2c550782a3fce24bc76bed806f827720c4eed673bdb05d62435e8533b04
size 736274
