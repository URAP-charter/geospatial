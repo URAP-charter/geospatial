version https://git-lfs.github.com/spec/v1
oid sha256:62baf31c079d2286721f2ef248d8d5e2ff7352ee8baf4bd9aaba9ebf257a2abe
size 36854
