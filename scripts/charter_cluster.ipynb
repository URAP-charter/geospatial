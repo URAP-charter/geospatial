version https://git-lfs.github.com/spec/v1
oid sha256:e92d8bb337fec7fdbac7d8883fcc4ea71b5414bd9406c387c9d3eda29d2b1ebc
size 171251
