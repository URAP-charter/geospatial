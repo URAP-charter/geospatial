version https://git-lfs.github.com/spec/v1
oid sha256:8c2751cc017145148428224e9c85fd8c441c96f89a45d6148532b51a101e18b0
size 2979377
