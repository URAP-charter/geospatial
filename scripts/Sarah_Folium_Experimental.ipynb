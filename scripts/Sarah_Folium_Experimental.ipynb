{
 "cells": [
  {
   "cell_type": "code",
   "execution_count": 2,
   "metadata": {},
   "outputs": [
    {
     "name": "stdout",
     "output_type": "stream",
     "text": [
      "0.6.0\n"
     ]
    }
   ],
   "source": [
    "import os\n",
    "import folium\n",
    "print(folium.__version__)\n"
   ]
  },
  {
   "cell_type": "code",
   "execution_count": 3,
   "metadata": {},
   "outputs": [],
   "source": [
    "from folium.plugins import MarkerCluster"
   ]
  },
  {
   "cell_type": "code",
   "execution_count": 5,
   "metadata": {},
   "outputs": [
    {
     "data": {
      "text/html": [
       "<div style=\"width:100%;\"><div style=\"position:relative;width:100%;height:0;padding-bottom:60%;\"><iframe src=\"data:text/html;charset=utf-8;base64,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\" style=\"position:absolute;width:100%;height:100%;left:0;top:0;border:none !important;\" allowfullscreen webkitallowfullscreen mozallowfullscreen></iframe></div></div>"
      ],
      "text/plain": [
       "<folium.folium.Map at 0x7f248434b080>"
      ]
     },
     "execution_count": 5,
     "metadata": {},
     "output_type": "execute_result"
    }
   ],
   "source": [
    "m = folium.Map(location=[44, -73], zoom_start=5)\n",
    "\n",
    "marker_cluster = MarkerCluster().add_to(m)\n",
    "\n",
    "\n",
    "folium.Marker(\n",
    "    location=[40.67, -73.94],\n",
    "    popup='Add popup text here.',\n",
    "    icon=folium.Icon(color='green', icon='ok-sign'),\n",
    ").add_to(marker_cluster)\n",
    "\n",
    "folium.Marker(\n",
    "    location=[44.67, -73.94],\n",
    "    popup='Add popup text here.',\n",
    "    icon=folium.Icon(color='red', icon='remove-sign'),\n",
    ").add_to(marker_cluster)\n",
    "\n",
    "folium.Marker(\n",
    "    location=[44.67, -71.94],\n",
    "    popup='Add popup text here.',\n",
    "    icon=None,\n",
    ").add_to(marker_cluster)\n",
    "\n",
    "m.save('1000_MarkerCluster0.html')\n",
    "\n",
    "m"
   ]
  },
  {
   "cell_type": "code",
   "execution_count": null,
   "metadata": {},
   "outputs": [],
   "source": []
  }
 ],
 "metadata": {
  "kernelspec": {
   "display_name": "Python 3",
   "language": "python",
   "name": "python3"
  },
  "language_info": {
   "codemirror_mode": {
    "name": "ipython",
    "version": 3
   },
   "file_extension": ".py",
   "mimetype": "text/x-python",
   "name": "python",
   "nbconvert_exporter": "python",
   "pygments_lexer": "ipython3",
   "version": "3.6.3"
  }
 },
 "nbformat": 4,
 "nbformat_minor": 2
}
