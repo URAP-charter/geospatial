version https://git-lfs.github.com/spec/v1
oid sha256:28feae52ba78b01f9ee3a9a85559d2f6d8bb3a8dae8d2b4dd5eb2b8f7529bb4e
size 61436034
