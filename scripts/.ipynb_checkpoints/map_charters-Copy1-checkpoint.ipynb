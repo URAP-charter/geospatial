version https://git-lfs.github.com/spec/v1
oid sha256:22c208ab9278670b3cd7ac10aadf1559f3abe73c2ff5ea16d061868f394280b3
size 30327036
