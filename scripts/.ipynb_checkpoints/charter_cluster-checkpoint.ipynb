version https://git-lfs.github.com/spec/v1
oid sha256:ff189b004df5e61d272b14a21b496b3a4f6f31347b2ba329fd1019c8364eed89
size 173029
