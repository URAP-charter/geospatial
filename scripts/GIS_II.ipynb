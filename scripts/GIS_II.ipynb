version https://git-lfs.github.com/spec/v1
oid sha256:0e50800a1a65f41599e45ac8c6de2018f45d705b29f33a78e4725f4e267be660
size 6704125
