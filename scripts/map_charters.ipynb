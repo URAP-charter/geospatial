version https://git-lfs.github.com/spec/v1
oid sha256:6a3d2ebe6f8ec38d29082ce56cae16ee0d40a98ee42df86f41ed29a4644168a4
size 30332327
